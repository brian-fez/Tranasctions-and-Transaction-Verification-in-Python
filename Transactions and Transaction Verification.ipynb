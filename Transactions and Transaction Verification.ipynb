{
 "cells": [
  {
   "cell_type": "code",
   "execution_count": 1,
   "id": "8bb2d2e7",
   "metadata": {},
   "outputs": [],
   "source": [
    "from cryptography.hazmat.primitives import hashes\n",
    "from cryptography.hazmat.primitives.serialization import PublicFormat, Encoding, load_der_public_key\n",
    "from cryptography.hazmat.primitives.asymmetric import ec, utils\n",
    "from cryptography.exceptions import InvalidSignature"
   ]
  },
  {
   "cell_type": "code",
   "execution_count": 2,
   "id": "e99e196e",
   "metadata": {},
   "outputs": [],
   "source": [
    "# generate txid function\n",
    "def generate_txid(sender_hash : bytes,recipient_hash : bytes, sender_public_key : bytes, amount : int, fee : int, nonce : int, signature : bytes):\n",
    "    digest = hashes.Hash(hashes.SHA256())\n",
    "    digest.update(sender_hash)\n",
    "    digest.update(recipient_hash)\n",
    "    digest.update(sender_public_key)\n",
    "    digest.update((amount).to_bytes(8, byteorder = 'little', signed = False))\n",
    "    digest.update((fee).to_bytes(8, byteorder = 'little', signed = False))\n",
    "    digest.update((nonce).to_bytes(8, byteorder = 'little', signed = False))\n",
    "    digest.update(signature)\n",
    "    return digest.finalize()\n",
    "# generate signature function\n",
    "def generate_signature(recipient_hash : bytes, amount : int, fee : int, nonce : int):\n",
    "    digest = hashes.Hash(hashes.SHA256())\n",
    "    digest.update(recipient_hash)\n",
    "    digest.update((amount).to_bytes(8, byteorder = 'little', signed = False))\n",
    "    digest.update((fee).to_bytes(8, byteorder = 'little', signed = False))\n",
    "    digest.update((nonce).to_bytes(8, byteorder = 'little', signed = False))\n",
    "    return digest.finalize()\n",
    "# calculate sha1 hash function\n",
    "def calculate_sha1_hash(public_key : bytes):\n",
    "    digest = hashes.Hash(hashes.SHA1())\n",
    "    digest.update(public_key)\n",
    "    return digest.finalize()\n",
    "# generate public key from private key\n",
    "def private_key_to_public_key(private_key):\n",
    "    return private_key.public_key().public_bytes(encoding=Encoding.DER, format=PublicFormat.SubjectPublicKeyInfo)\n",
    "\n",
    "#constructor\n",
    "class Transaction:\n",
    "    \n",
    "    def __init__ (self,sender_hash : bytes,recipient_hash : bytes ,sender_public_key : bytes ,amount : int, fee : int ,\n",
    "                  nonce : int ,signature : bytes,txid : bytes):\n",
    "        self.sender_hash = sender_hash\n",
    "        self.recipient_hash = recipient_hash\n",
    "        self.sender_public_key = sender_public_key\n",
    "        self.amount = amount\n",
    "        self.fee = fee\n",
    "        self.nonce = nonce\n",
    "        self.signature = signature\n",
    "        self.txid = txid  \n",
    "    \n",
    "    def verify(self,sender_balance,sender_previous_nonce):\n",
    "        assert len(self.sender_hash) == 20, \\\n",
    "            f\"Sender's hash {(self.sender_hash)} is not 20 bytes long\"\n",
    "        assert len(self.recipient_hash) == 20, \\\n",
    "            f\"Recipients's hash {(self.recipient_hash)} is not 20 bytes long\"\n",
    "        assert self.amount <= sender_balance, \\\n",
    "            f\"Sender's balance of {sender_balance} does not cover amount {(self.amount)}\"\n",
    "        assert self.fee <= self.amount, \\\n",
    "            f\"Fee {(self.fee)} exceeds amount {(self.amount)}\"\n",
    "        assert self.nonce == sender_previous_nonce + 1 or self.nonce == -1 + 1, \\\n",
    "            f\"Sender's nonce of {sender_previous_nonce} does not match expected {(self.nonce)}\"\n",
    "        assert self.txid == generate_txid(self.sender_hash,self.recipient_hash, self.sender_public_key,\\\n",
    "                                           self.amount, self.fee, self.nonce, self.signature) , \\\n",
    "            f\"Transaction ID is not valid !\"\n",
    "        try:\n",
    "            load_der_public_key(self.sender_public_key).verify(self.signature, \\\n",
    "                            generate_signature(self.recipient_hash,self.amount,self.fee,self.nonce), \\\n",
    "                            ec.ECDSA(utils.Prehashed(hashes.SHA256())))\n",
    "        except InvalidSignature :\n",
    "            \n",
    "            raise InvalidSignature(\"Signature is not valid !\")\n",
    "\n",
    "# create transaction function\n",
    "def create_signed_transaction(sender_private_key, recipient_hash, amount, fee, nonce):\n",
    "    signature_hash = sender_private_key.sign(generate_signature(recipient_hash,amount,fee,nonce), ec.ECDSA(utils.Prehashed(hashes.SHA256())))\n",
    "    sender_public_key = private_key_to_public_key(sender_private_key)\n",
    "    sender_hash = calculate_sha1_hash(sender_public_key)\n",
    "    txid = generate_txid(sender_hash,recipient_hash,sender_public_key,amount,fee,nonce,signature_hash)\n",
    "    return Transaction(sender_hash, recipient_hash, sender_public_key, amount, fee, nonce, signature_hash, txid )"
   ]
  },
  {
   "cell_type": "markdown",
   "id": "7e5ca568",
   "metadata": {},
   "source": [
    "### Test 1 \n",
    "Generate a private key using ec.generate_private_key(ec.SECP256K1) . Call\n",
    "create_signed_transaction to make a test transaction. Check that the\n",
    "transaction.verify call succeeds (when provided with a sender_balance which is\n",
    "sufficiently high and sender_previous_nonce = transaction.nonce - 1 )."
   ]
  },
  {
   "cell_type": "code",
   "execution_count": 3,
   "id": "313dc7be",
   "metadata": {},
   "outputs": [],
   "source": [
    "# Question 1\n",
    "# generate sender and recipient private key\n",
    "sender_sk_1 = ec.generate_private_key(\n",
    "    ec.SECP256K1())\n",
    "recipient_sk_1 = ec.generate_private_key(\n",
    "    ec.SECP256K1())\n",
    "# calculate recipient hash hashing the recipient public key\n",
    "recipient_hash_1 = calculate_sha1_hash(private_key_to_public_key(recipient_sk_1))\n",
    "# create signed transaction\n",
    "transaction_1 = create_signed_transaction(sender_sk_1, recipient_hash_1, 4, 1, 1)\n",
    "# verify transaction\n",
    "transaction_1.verify(sender_balance=20,sender_previous_nonce=0)"
   ]
  },
  {
   "cell_type": "markdown",
   "id": "6c1b2793",
   "metadata": {},
   "source": [
    "### Test 2\n",
    "Generate a valid transaction, check that modifying any of the fields causes\n",
    "transaction.verify to raise an exception due to an invalid txid ."
   ]
  },
  {
   "cell_type": "code",
   "execution_count": 4,
   "id": "3fbe99cd",
   "metadata": {},
   "outputs": [],
   "source": [
    "# Question 2\n",
    "# generate sender and recipient private key\n",
    "sender_sk_2 = ec.generate_private_key(\n",
    "    ec.SECP256K1())\n",
    "recipient_sk_2 = ec.generate_private_key(\n",
    "    ec.SECP256K1())\n",
    "# calculate recipient hash hashing the recipient public key\n",
    "recipient_hash_2 = calculate_sha1_hash(private_key_to_public_key(recipient_sk_2))\n",
    "# create signed transaction\n",
    "transaction_2 = create_signed_transaction(sender_sk_2, recipient_hash_2, 4, 1, 1)\n",
    "# verify transaction\n",
    "transaction_2.verify(sender_balance=10,sender_previous_nonce=0)"
   ]
  },
  {
   "cell_type": "code",
   "execution_count": 5,
   "id": "d0392622",
   "metadata": {},
   "outputs": [
    {
     "ename": "AssertionError",
     "evalue": "Transaction ID is not valid !",
     "output_type": "error",
     "traceback": [
      "\u001b[1;31m---------------------------------------------------------------------------\u001b[0m",
      "\u001b[1;31mAssertionError\u001b[0m                            Traceback (most recent call last)",
      "\u001b[1;32m~\\AppData\\Local\\Temp/ipykernel_13652/2135552443.py\u001b[0m in \u001b[0;36m<module>\u001b[1;34m\u001b[0m\n\u001b[0;32m      2\u001b[0m \u001b[0mtransaction_2\u001b[0m\u001b[1;33m.\u001b[0m\u001b[0mfee\u001b[0m \u001b[1;33m=\u001b[0m \u001b[1;36m2\u001b[0m\u001b[1;33m\u001b[0m\u001b[1;33m\u001b[0m\u001b[0m\n\u001b[0;32m      3\u001b[0m \u001b[1;31m# verify transaction\u001b[0m\u001b[1;33m\u001b[0m\u001b[1;33m\u001b[0m\u001b[0m\n\u001b[1;32m----> 4\u001b[1;33m \u001b[0mtransaction_2\u001b[0m\u001b[1;33m.\u001b[0m\u001b[0mverify\u001b[0m\u001b[1;33m(\u001b[0m\u001b[0msender_balance\u001b[0m\u001b[1;33m=\u001b[0m\u001b[1;36m10\u001b[0m\u001b[1;33m,\u001b[0m\u001b[0msender_previous_nonce\u001b[0m\u001b[1;33m=\u001b[0m\u001b[1;36m0\u001b[0m\u001b[1;33m)\u001b[0m\u001b[1;33m\u001b[0m\u001b[1;33m\u001b[0m\u001b[0m\n\u001b[0m",
      "\u001b[1;32m~\\AppData\\Local\\Temp/ipykernel_13652/1859349346.py\u001b[0m in \u001b[0;36mverify\u001b[1;34m(self, sender_balance, sender_previous_nonce)\u001b[0m\n\u001b[0;32m     52\u001b[0m         \u001b[1;32massert\u001b[0m \u001b[0mself\u001b[0m\u001b[1;33m.\u001b[0m\u001b[0mnonce\u001b[0m \u001b[1;33m==\u001b[0m \u001b[0msender_previous_nonce\u001b[0m \u001b[1;33m+\u001b[0m \u001b[1;36m1\u001b[0m \u001b[1;32mor\u001b[0m \u001b[0mself\u001b[0m\u001b[1;33m.\u001b[0m\u001b[0mnonce\u001b[0m \u001b[1;33m==\u001b[0m \u001b[1;33m-\u001b[0m\u001b[1;36m1\u001b[0m \u001b[1;33m+\u001b[0m \u001b[1;36m1\u001b[0m\u001b[1;33m,\u001b[0m\u001b[0;31m \u001b[0m\u001b[0;31m\\\u001b[0m\u001b[1;33m\u001b[0m\u001b[1;33m\u001b[0m\u001b[0m\n\u001b[0;32m     53\u001b[0m             \u001b[1;34mf\"Sender's nonce of {sender_previous_nonce} does not match expected {(self.nonce)}\"\u001b[0m\u001b[1;33m\u001b[0m\u001b[1;33m\u001b[0m\u001b[0m\n\u001b[1;32m---> 54\u001b[1;33m         assert self.txid == generate_txid(self.sender_hash,self.recipient_hash, self.sender_public_key,\\\n\u001b[0m\u001b[0;32m     55\u001b[0m                                            self.amount, self.fee, self.nonce, self.signature) , \\\n\u001b[0;32m     56\u001b[0m             \u001b[1;34mf\"Transaction ID is not valid !\"\u001b[0m\u001b[1;33m\u001b[0m\u001b[1;33m\u001b[0m\u001b[0m\n",
      "\u001b[1;31mAssertionError\u001b[0m: Transaction ID is not valid !"
     ]
    }
   ],
   "source": [
    "# modify fee\n",
    "transaction_2.fee = 2\n",
    "# verify transaction\n",
    "transaction_2.verify(sender_balance=10,sender_previous_nonce=0)"
   ]
  },
  {
   "cell_type": "markdown",
   "id": "8165997d",
   "metadata": {},
   "source": [
    "### Test 3\n",
    "Generate a valid transaction, change the amount field, regenerate the txid so it is valid\n",
    "again. Check that transaction.verify raises an exception due to an invalid signature."
   ]
  },
  {
   "cell_type": "code",
   "execution_count": 6,
   "id": "bdc39ba7",
   "metadata": {},
   "outputs": [],
   "source": [
    "# Question 3\n",
    "# generate sender and recipient private key\n",
    "sender_sk_3 = ec.generate_private_key(\n",
    "    ec.SECP256K1())\n",
    "recipient_sk_3 = ec.generate_private_key(\n",
    "    ec.SECP256K1())\n",
    "# calculate recipient hash hashing the recipient public key\n",
    "recipient_hash_3 = calculate_sha1_hash(private_key_to_public_key(recipient_sk_3))\n",
    "# create signed transaction\n",
    "transaction_3 = create_signed_transaction(sender_sk_3, recipient_hash_3, 4, 1, 1)\n",
    "# verify transaction\n",
    "transaction_3.verify(sender_balance=10,sender_previous_nonce=0)"
   ]
  },
  {
   "cell_type": "code",
   "execution_count": 7,
   "id": "06a9c70d",
   "metadata": {},
   "outputs": [
    {
     "ename": "InvalidSignature",
     "evalue": "Signature is not valid !",
     "output_type": "error",
     "traceback": [
      "\u001b[1;31m---------------------------------------------------------------------------\u001b[0m",
      "\u001b[1;31mInvalidSignature\u001b[0m                          Traceback (most recent call last)",
      "\u001b[1;32m~\\AppData\\Local\\Temp/ipykernel_13652/1859349346.py\u001b[0m in \u001b[0;36mverify\u001b[1;34m(self, sender_balance, sender_previous_nonce)\u001b[0m\n\u001b[0;32m     57\u001b[0m         \u001b[1;32mtry\u001b[0m\u001b[1;33m:\u001b[0m\u001b[1;33m\u001b[0m\u001b[1;33m\u001b[0m\u001b[0m\n\u001b[1;32m---> 58\u001b[1;33m             load_der_public_key(self.sender_public_key).verify(self.signature, \\\n\u001b[0m\u001b[0;32m     59\u001b[0m                             \u001b[0mgenerate_signature\u001b[0m\u001b[1;33m(\u001b[0m\u001b[0mself\u001b[0m\u001b[1;33m.\u001b[0m\u001b[0mrecipient_hash\u001b[0m\u001b[1;33m,\u001b[0m\u001b[0mself\u001b[0m\u001b[1;33m.\u001b[0m\u001b[0mamount\u001b[0m\u001b[1;33m,\u001b[0m\u001b[0mself\u001b[0m\u001b[1;33m.\u001b[0m\u001b[0mfee\u001b[0m\u001b[1;33m,\u001b[0m\u001b[0mself\u001b[0m\u001b[1;33m.\u001b[0m\u001b[0mnonce\u001b[0m\u001b[1;33m)\u001b[0m\u001b[1;33m,\u001b[0m\u001b[0;31m \u001b[0m\u001b[0;31m\\\u001b[0m\u001b[1;33m\u001b[0m\u001b[1;33m\u001b[0m\u001b[0m\n",
      "\u001b[1;32m~\\anaconda3\\lib\\site-packages\\cryptography\\hazmat\\backends\\openssl\\ec.py\u001b[0m in \u001b[0;36mverify\u001b[1;34m(self, signature, data, signature_algorithm)\u001b[0m\n\u001b[0;32m    377\u001b[0m         )\n\u001b[1;32m--> 378\u001b[1;33m         \u001b[0m_ecdsa_sig_verify\u001b[0m\u001b[1;33m(\u001b[0m\u001b[0mself\u001b[0m\u001b[1;33m.\u001b[0m\u001b[0m_backend\u001b[0m\u001b[1;33m,\u001b[0m \u001b[0mself\u001b[0m\u001b[1;33m,\u001b[0m \u001b[0msignature\u001b[0m\u001b[1;33m,\u001b[0m \u001b[0mdata\u001b[0m\u001b[1;33m)\u001b[0m\u001b[1;33m\u001b[0m\u001b[1;33m\u001b[0m\u001b[0m\n\u001b[0m",
      "\u001b[1;32m~\\anaconda3\\lib\\site-packages\\cryptography\\hazmat\\backends\\openssl\\ec.py\u001b[0m in \u001b[0;36m_ecdsa_sig_verify\u001b[1;34m(backend, public_key, signature, data)\u001b[0m\n\u001b[0;32m    105\u001b[0m         \u001b[0mbackend\u001b[0m\u001b[1;33m.\u001b[0m\u001b[0m_consume_errors\u001b[0m\u001b[1;33m(\u001b[0m\u001b[1;33m)\u001b[0m\u001b[1;33m\u001b[0m\u001b[1;33m\u001b[0m\u001b[0m\n\u001b[1;32m--> 106\u001b[1;33m         \u001b[1;32mraise\u001b[0m \u001b[0mInvalidSignature\u001b[0m\u001b[1;33m\u001b[0m\u001b[1;33m\u001b[0m\u001b[0m\n\u001b[0m\u001b[0;32m    107\u001b[0m \u001b[1;33m\u001b[0m\u001b[0m\n",
      "\u001b[1;31mInvalidSignature\u001b[0m: ",
      "\nDuring handling of the above exception, another exception occurred:\n",
      "\u001b[1;31mInvalidSignature\u001b[0m                          Traceback (most recent call last)",
      "\u001b[1;32m~\\AppData\\Local\\Temp/ipykernel_13652/3772818262.py\u001b[0m in \u001b[0;36m<module>\u001b[1;34m\u001b[0m\n\u001b[0;32m      6\u001b[0m                                         transaction_3.fee, transaction_3.nonce, transaction_3.signature)\n\u001b[0;32m      7\u001b[0m \u001b[1;31m# verify transaction\u001b[0m\u001b[1;33m\u001b[0m\u001b[1;33m\u001b[0m\u001b[0m\n\u001b[1;32m----> 8\u001b[1;33m \u001b[0mtransaction_3\u001b[0m\u001b[1;33m.\u001b[0m\u001b[0mverify\u001b[0m\u001b[1;33m(\u001b[0m\u001b[0msender_balance\u001b[0m\u001b[1;33m=\u001b[0m\u001b[1;36m20\u001b[0m\u001b[1;33m,\u001b[0m\u001b[0msender_previous_nonce\u001b[0m\u001b[1;33m=\u001b[0m\u001b[1;36m0\u001b[0m\u001b[1;33m)\u001b[0m\u001b[1;33m\u001b[0m\u001b[1;33m\u001b[0m\u001b[0m\n\u001b[0m",
      "\u001b[1;32m~\\AppData\\Local\\Temp/ipykernel_13652/1859349346.py\u001b[0m in \u001b[0;36mverify\u001b[1;34m(self, sender_balance, sender_previous_nonce)\u001b[0m\n\u001b[0;32m     61\u001b[0m         \u001b[1;32mexcept\u001b[0m \u001b[0mInvalidSignature\u001b[0m \u001b[1;33m:\u001b[0m\u001b[1;33m\u001b[0m\u001b[1;33m\u001b[0m\u001b[0m\n\u001b[0;32m     62\u001b[0m \u001b[1;33m\u001b[0m\u001b[0m\n\u001b[1;32m---> 63\u001b[1;33m             \u001b[1;32mraise\u001b[0m \u001b[0mInvalidSignature\u001b[0m\u001b[1;33m(\u001b[0m\u001b[1;34m\"Signature is not valid !\"\u001b[0m\u001b[1;33m)\u001b[0m\u001b[1;33m\u001b[0m\u001b[1;33m\u001b[0m\u001b[0m\n\u001b[0m\u001b[0;32m     64\u001b[0m \u001b[1;33m\u001b[0m\u001b[0m\n\u001b[0;32m     65\u001b[0m \u001b[1;31m# create transaction function\u001b[0m\u001b[1;33m\u001b[0m\u001b[1;33m\u001b[0m\u001b[0m\n",
      "\u001b[1;31mInvalidSignature\u001b[0m: Signature is not valid !"
     ]
    }
   ],
   "source": [
    "# modify amount\n",
    "transaction_3.amount = 10\n",
    "# rigenerate txid\n",
    "transaction_3.txid = generate_txid(transaction_3.sender_hash,transaction_3.recipient_hash, \n",
    "                                         transaction_3.sender_public_key,transaction_3.amount, \\\n",
    "                                        transaction_3.fee, transaction_3.nonce, transaction_3.signature)\n",
    "# verify transaction\n",
    "transaction_3.verify(sender_balance=20,sender_previous_nonce=0)"
   ]
  },
  {
   "cell_type": "markdown",
   "id": "e24ba10a",
   "metadata": {},
   "source": [
    "### Test 4\n",
    "Generate a valid transaction, check that transaction.verify raises an exception if either\n",
    "the sender_balance is too low or sender_previous_nonce is incorrect"
   ]
  },
  {
   "cell_type": "code",
   "execution_count": 8,
   "id": "9f6ae9bd",
   "metadata": {},
   "outputs": [
    {
     "ename": "AssertionError",
     "evalue": "Sender's balance of 20 does not cover amount 30",
     "output_type": "error",
     "traceback": [
      "\u001b[1;31m---------------------------------------------------------------------------\u001b[0m",
      "\u001b[1;31mAssertionError\u001b[0m                            Traceback (most recent call last)",
      "\u001b[1;32m~\\AppData\\Local\\Temp/ipykernel_13652/934907115.py\u001b[0m in \u001b[0;36m<module>\u001b[1;34m\u001b[0m\n\u001b[0;32m     10\u001b[0m \u001b[0mtransaction_4\u001b[0m \u001b[1;33m=\u001b[0m \u001b[0mcreate_signed_transaction\u001b[0m\u001b[1;33m(\u001b[0m\u001b[0msender_sk_4\u001b[0m\u001b[1;33m,\u001b[0m \u001b[0mrecipient_hash_4\u001b[0m\u001b[1;33m,\u001b[0m \u001b[1;36m30\u001b[0m\u001b[1;33m,\u001b[0m \u001b[1;36m1\u001b[0m\u001b[1;33m,\u001b[0m \u001b[1;36m1\u001b[0m\u001b[1;33m)\u001b[0m\u001b[1;33m\u001b[0m\u001b[1;33m\u001b[0m\u001b[0m\n\u001b[0;32m     11\u001b[0m \u001b[1;31m# verify transaction\u001b[0m\u001b[1;33m\u001b[0m\u001b[1;33m\u001b[0m\u001b[0m\n\u001b[1;32m---> 12\u001b[1;33m \u001b[0mtransaction_4\u001b[0m\u001b[1;33m.\u001b[0m\u001b[0mverify\u001b[0m\u001b[1;33m(\u001b[0m\u001b[0msender_balance\u001b[0m\u001b[1;33m=\u001b[0m\u001b[1;36m20\u001b[0m\u001b[1;33m,\u001b[0m\u001b[0msender_previous_nonce\u001b[0m\u001b[1;33m=\u001b[0m\u001b[1;36m0\u001b[0m\u001b[1;33m)\u001b[0m\u001b[1;33m\u001b[0m\u001b[1;33m\u001b[0m\u001b[0m\n\u001b[0m",
      "\u001b[1;32m~\\AppData\\Local\\Temp/ipykernel_13652/1859349346.py\u001b[0m in \u001b[0;36mverify\u001b[1;34m(self, sender_balance, sender_previous_nonce)\u001b[0m\n\u001b[0;32m     46\u001b[0m         \u001b[1;32massert\u001b[0m \u001b[0mlen\u001b[0m\u001b[1;33m(\u001b[0m\u001b[0mself\u001b[0m\u001b[1;33m.\u001b[0m\u001b[0mrecipient_hash\u001b[0m\u001b[1;33m)\u001b[0m \u001b[1;33m==\u001b[0m \u001b[1;36m20\u001b[0m\u001b[1;33m,\u001b[0m\u001b[0;31m \u001b[0m\u001b[0;31m\\\u001b[0m\u001b[1;33m\u001b[0m\u001b[1;33m\u001b[0m\u001b[0m\n\u001b[0;32m     47\u001b[0m             \u001b[1;34mf\"Recipients's hash {(self.recipient_hash)} is not 20 bytes long\"\u001b[0m\u001b[1;33m\u001b[0m\u001b[1;33m\u001b[0m\u001b[0m\n\u001b[1;32m---> 48\u001b[1;33m         \u001b[1;32massert\u001b[0m \u001b[0mself\u001b[0m\u001b[1;33m.\u001b[0m\u001b[0mamount\u001b[0m \u001b[1;33m<=\u001b[0m \u001b[0msender_balance\u001b[0m\u001b[1;33m,\u001b[0m\u001b[0;31m \u001b[0m\u001b[0;31m\\\u001b[0m\u001b[1;33m\u001b[0m\u001b[1;33m\u001b[0m\u001b[0m\n\u001b[0m\u001b[0;32m     49\u001b[0m             \u001b[1;34mf\"Sender's balance of {sender_balance} does not cover amount {(self.amount)}\"\u001b[0m\u001b[1;33m\u001b[0m\u001b[1;33m\u001b[0m\u001b[0m\n\u001b[0;32m     50\u001b[0m         \u001b[1;32massert\u001b[0m \u001b[0mself\u001b[0m\u001b[1;33m.\u001b[0m\u001b[0mfee\u001b[0m \u001b[1;33m<=\u001b[0m \u001b[0mself\u001b[0m\u001b[1;33m.\u001b[0m\u001b[0mamount\u001b[0m\u001b[1;33m,\u001b[0m\u001b[0;31m \u001b[0m\u001b[0;31m\\\u001b[0m\u001b[1;33m\u001b[0m\u001b[1;33m\u001b[0m\u001b[0m\n",
      "\u001b[1;31mAssertionError\u001b[0m: Sender's balance of 20 does not cover amount 30"
     ]
    }
   ],
   "source": [
    "# Question 4\n",
    "# generate sender and recipient private key\n",
    "sender_sk_4 = ec.generate_private_key(\n",
    "    ec.SECP256K1())\n",
    "recipient_sk_4 = ec.generate_private_key(\n",
    "    ec.SECP256K1())\n",
    "# calculate recipient hash hashing the recipient public key\n",
    "recipient_hash_4 = calculate_sha1_hash(private_key_to_public_key(recipient_sk_4))\n",
    "# create signed transaction\n",
    "transaction_4 = create_signed_transaction(sender_sk_4, recipient_hash_4, 30, 1, 1)\n",
    "# verify transaction\n",
    "transaction_4.verify(sender_balance=20,sender_previous_nonce=0)"
   ]
  },
  {
   "cell_type": "markdown",
   "id": "d420117b",
   "metadata": {},
   "source": [
    "### Test 5\n",
    "Generate two private keys, A and B . Use A to generate a valid transaction. Replace the\n",
    "signature with a signature created using B . Regenerate the txid and confirm that\n",
    "transaction.verify fails with an invalid signature.\n"
   ]
  },
  {
   "cell_type": "code",
   "execution_count": 9,
   "id": "0b814054",
   "metadata": {},
   "outputs": [
    {
     "ename": "InvalidSignature",
     "evalue": "Signature is not valid !",
     "output_type": "error",
     "traceback": [
      "\u001b[1;31m---------------------------------------------------------------------------\u001b[0m",
      "\u001b[1;31mInvalidSignature\u001b[0m                          Traceback (most recent call last)",
      "\u001b[1;32m~\\AppData\\Local\\Temp/ipykernel_13652/1859349346.py\u001b[0m in \u001b[0;36mverify\u001b[1;34m(self, sender_balance, sender_previous_nonce)\u001b[0m\n\u001b[0;32m     57\u001b[0m         \u001b[1;32mtry\u001b[0m\u001b[1;33m:\u001b[0m\u001b[1;33m\u001b[0m\u001b[1;33m\u001b[0m\u001b[0m\n\u001b[1;32m---> 58\u001b[1;33m             load_der_public_key(self.sender_public_key).verify(self.signature, \\\n\u001b[0m\u001b[0;32m     59\u001b[0m                             \u001b[0mgenerate_signature\u001b[0m\u001b[1;33m(\u001b[0m\u001b[0mself\u001b[0m\u001b[1;33m.\u001b[0m\u001b[0mrecipient_hash\u001b[0m\u001b[1;33m,\u001b[0m\u001b[0mself\u001b[0m\u001b[1;33m.\u001b[0m\u001b[0mamount\u001b[0m\u001b[1;33m,\u001b[0m\u001b[0mself\u001b[0m\u001b[1;33m.\u001b[0m\u001b[0mfee\u001b[0m\u001b[1;33m,\u001b[0m\u001b[0mself\u001b[0m\u001b[1;33m.\u001b[0m\u001b[0mnonce\u001b[0m\u001b[1;33m)\u001b[0m\u001b[1;33m,\u001b[0m\u001b[0;31m \u001b[0m\u001b[0;31m\\\u001b[0m\u001b[1;33m\u001b[0m\u001b[1;33m\u001b[0m\u001b[0m\n",
      "\u001b[1;32m~\\anaconda3\\lib\\site-packages\\cryptography\\hazmat\\backends\\openssl\\ec.py\u001b[0m in \u001b[0;36mverify\u001b[1;34m(self, signature, data, signature_algorithm)\u001b[0m\n\u001b[0;32m    377\u001b[0m         )\n\u001b[1;32m--> 378\u001b[1;33m         \u001b[0m_ecdsa_sig_verify\u001b[0m\u001b[1;33m(\u001b[0m\u001b[0mself\u001b[0m\u001b[1;33m.\u001b[0m\u001b[0m_backend\u001b[0m\u001b[1;33m,\u001b[0m \u001b[0mself\u001b[0m\u001b[1;33m,\u001b[0m \u001b[0msignature\u001b[0m\u001b[1;33m,\u001b[0m \u001b[0mdata\u001b[0m\u001b[1;33m)\u001b[0m\u001b[1;33m\u001b[0m\u001b[1;33m\u001b[0m\u001b[0m\n\u001b[0m",
      "\u001b[1;32m~\\anaconda3\\lib\\site-packages\\cryptography\\hazmat\\backends\\openssl\\ec.py\u001b[0m in \u001b[0;36m_ecdsa_sig_verify\u001b[1;34m(backend, public_key, signature, data)\u001b[0m\n\u001b[0;32m    105\u001b[0m         \u001b[0mbackend\u001b[0m\u001b[1;33m.\u001b[0m\u001b[0m_consume_errors\u001b[0m\u001b[1;33m(\u001b[0m\u001b[1;33m)\u001b[0m\u001b[1;33m\u001b[0m\u001b[1;33m\u001b[0m\u001b[0m\n\u001b[1;32m--> 106\u001b[1;33m         \u001b[1;32mraise\u001b[0m \u001b[0mInvalidSignature\u001b[0m\u001b[1;33m\u001b[0m\u001b[1;33m\u001b[0m\u001b[0m\n\u001b[0m\u001b[0;32m    107\u001b[0m \u001b[1;33m\u001b[0m\u001b[0m\n",
      "\u001b[1;31mInvalidSignature\u001b[0m: ",
      "\nDuring handling of the above exception, another exception occurred:\n",
      "\u001b[1;31mInvalidSignature\u001b[0m                          Traceback (most recent call last)",
      "\u001b[1;32m~\\AppData\\Local\\Temp/ipykernel_13652/1035812420.py\u001b[0m in \u001b[0;36m<module>\u001b[1;34m\u001b[0m\n\u001b[0;32m     18\u001b[0m transaction_5.sender_public_key,transaction_5.amount,transaction_5.fee, transaction_5.nonce,transaction_5.signature)\n\u001b[0;32m     19\u001b[0m \u001b[1;31m# verify transaction\u001b[0m\u001b[1;33m\u001b[0m\u001b[1;33m\u001b[0m\u001b[0m\n\u001b[1;32m---> 20\u001b[1;33m \u001b[0mtransaction_5\u001b[0m\u001b[1;33m.\u001b[0m\u001b[0mverify\u001b[0m\u001b[1;33m(\u001b[0m\u001b[0msender_balance\u001b[0m \u001b[1;33m=\u001b[0m \u001b[1;36m40\u001b[0m\u001b[1;33m,\u001b[0m \u001b[0msender_previous_nonce\u001b[0m \u001b[1;33m=\u001b[0m \u001b[1;36m0\u001b[0m\u001b[1;33m)\u001b[0m\u001b[1;33m\u001b[0m\u001b[1;33m\u001b[0m\u001b[0m\n\u001b[0m",
      "\u001b[1;32m~\\AppData\\Local\\Temp/ipykernel_13652/1859349346.py\u001b[0m in \u001b[0;36mverify\u001b[1;34m(self, sender_balance, sender_previous_nonce)\u001b[0m\n\u001b[0;32m     61\u001b[0m         \u001b[1;32mexcept\u001b[0m \u001b[0mInvalidSignature\u001b[0m \u001b[1;33m:\u001b[0m\u001b[1;33m\u001b[0m\u001b[1;33m\u001b[0m\u001b[0m\n\u001b[0;32m     62\u001b[0m \u001b[1;33m\u001b[0m\u001b[0m\n\u001b[1;32m---> 63\u001b[1;33m             \u001b[1;32mraise\u001b[0m \u001b[0mInvalidSignature\u001b[0m\u001b[1;33m(\u001b[0m\u001b[1;34m\"Signature is not valid !\"\u001b[0m\u001b[1;33m)\u001b[0m\u001b[1;33m\u001b[0m\u001b[1;33m\u001b[0m\u001b[0m\n\u001b[0m\u001b[0;32m     64\u001b[0m \u001b[1;33m\u001b[0m\u001b[0m\n\u001b[0;32m     65\u001b[0m \u001b[1;31m# create transaction function\u001b[0m\u001b[1;33m\u001b[0m\u001b[1;33m\u001b[0m\u001b[0m\n",
      "\u001b[1;31mInvalidSignature\u001b[0m: Signature is not valid !"
     ]
    }
   ],
   "source": [
    "# Question 5\n",
    "# generate 2 sender private keys and recipient private key\n",
    "sk_A = ec.generate_private_key(\n",
    "    ec.SECP256K1())\n",
    "sk_B = ec.generate_private_key(\n",
    "    ec.SECP256K1())\n",
    "sk_recipient = ec.generate_private_key(\n",
    "    ec.SECP256K1())\n",
    "# calculate recipient hash hashing the recipient public key\n",
    "recipient_hash_A = calculate_sha1_hash(private_key_to_public_key(sk_recipient))\n",
    "# create signed transaction\n",
    "transaction_5 = create_signed_transaction(sk_A, recipient_hash_A, 30, 1, 1)\n",
    "# replace signature\n",
    "transaction_5.signature = sk_B.sign(generate_signature(transaction_5.recipient_hash,\\\n",
    "transaction_5.amount,transaction_5.fee,transaction_5.nonce), ec.ECDSA(utils.Prehashed(hashes.SHA256())))\n",
    "# rigenerate txid\n",
    "transaction_5.txid = generate_txid(transaction_5.sender_hash,transaction_5.recipient_hash,\\\n",
    "transaction_5.sender_public_key,transaction_5.amount,transaction_5.fee, transaction_5.nonce,transaction_5.signature)\n",
    "# verify transaction\n",
    "transaction_5.verify(sender_balance = 40, sender_previous_nonce = 0)"
   ]
  },
  {
   "cell_type": "markdown",
   "id": "c9b7e557",
   "metadata": {},
   "source": [
    "### Test 6\n",
    "Check that the following transaction verifies successfully (when using sender_balance = 20 ,\n",
    "sender_previous_nonce = 4 )\n"
   ]
  },
  {
   "cell_type": "code",
   "execution_count": 10,
   "id": "f8637678",
   "metadata": {},
   "outputs": [],
   "source": [
    "transaction_6 =Transaction(\n",
    "bytes.fromhex(\"3df8f04b3c159fdc6631c4b8b0874940344d173d\"),\n",
    "bytes.fromhex(\"5c1499a0484ace2f731b0afb83241e15f0e168ca\"),\n",
    "bytes.fromhex(\"3056301006072a8648ce3d020106052b8104000a\" +\n",
    "\"03420004886ed03cb7ffd4cbd95579ea2e202f1d\" +\n",
    "\"b29afc3bf5d7c2c34a34701bbb0685a7b535f1e6\" +\n",
    "\"31373afe8d1c860a9ac47d8e2659b74d437435b0\" +\n",
    "\"5f2c55bf3f033ac1\"),\n",
    "10,\n",
    "2,\n",
    "5,\n",
    "bytes.fromhex(\"3046022100f9c076a72a2341a1b8cb68520713e1\" +\n",
    "\"2f173378cf78cf79c7978a2337fbad141d022100\" +\n",
    "\"ec27704d4d604f839f99e62c02e65bf60cc93ae1\"\n",
    "\"735c1ccf29fd31bd3c5a40ed\"),\n",
    "bytes.fromhex(\"ca388e0890b71bd1775460d478f26af3776c9b4f\" +\n",
    "\"6c2b936e1e788c5c87657bc3\"))\n",
    "\n",
    "transaction_6.verify(20,4)"
   ]
  }
 ],
 "metadata": {
  "kernelspec": {
   "display_name": "Python 3 (ipykernel)",
   "language": "python",
   "name": "python3"
  },
  "language_info": {
   "codemirror_mode": {
    "name": "ipython",
    "version": 3
   },
   "file_extension": ".py",
   "mimetype": "text/x-python",
   "name": "python",
   "nbconvert_exporter": "python",
   "pygments_lexer": "ipython3",
   "version": "3.9.7"
  }
 },
 "nbformat": 4,
 "nbformat_minor": 5
}
